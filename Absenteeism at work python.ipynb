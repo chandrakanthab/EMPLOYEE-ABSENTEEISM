{
 "cells": [
  {
   "cell_type": "code",
   "execution_count": null,
   "metadata": {},
   "outputs": [],
   "source": [
    "import pandas as pd # to do summary operations  on data\n",
    "import numpy as np # to do mathematical calculations on data\n",
    "import os # to interact with local system directories\n",
    "import matplotlib.pyplot as plt  # for plotting\n",
    "import seaborn as sns # for better plotting\n",
    "import sys #  To Interact with System folders/libraries\n",
    "from scipy.stats import chi2_contingency  # FOr  Chi square Test\n",
    "os.path.dirname(sys.executable) #  To Interact with System folders/libraries\n",
    "#from fancyimpute import KNN # Impute  Missing values\n",
    "from sklearn.cluster import KMeans ##  To Implement K Means Clustering"
   ]
  },
  {
   "cell_type": "code",
   "execution_count": 102,
   "metadata": {},
   "outputs": [],
   "source": [
    "\n",
    "def change_data_type(data,col_names,convert_type):\n",
    "    \n",
    "    \"\"\"\" This  function will take the data frame and  columns  and conversion type as input  \n",
    "      will give the  converted  columns from one datatype to  another datatype\n",
    "    \"\"\"\n",
    "    for col in col_names:\n",
    "        print(col ,  \"before  convert\" , data[col].dtype)\n",
    "        data[col] = data[col].astype(convert_type)\n",
    "        print(col,\"after convert\",data[col].dtype)\n",
    "    return data\n",
    "# \"\"\" This  function will take the data frame and Numerical columns as input and\n",
    "#    will give  scatter plot with regression line and correlationship as out[put to show the relationship between two numerical variables\n",
    " #   \"\"\"\n",
    "def joint_plots(data,numeric_columns,target_column):\n",
    "    \n",
    "    for col in numeric_columns:\n",
    "        fig = plt.figure(figsize=(3,3)) # define plot area\n",
    "        ax=sns.jointplot(x=col,y=target_column,data=df_obsent)\n",
    "    #ax = sns.regplot(x=\"Age\", y='Absenteeismtime',data=df_obsent)\n",
    "        plt.show()\n",
    "\n",
    "def reg_plots(data,numeric_columns,target_column):\n",
    "    \"\"\"  This  function will take the data frame and Numerical columns as input and\n",
    "    will give  scatter plot with regression line and correlationship as out[put to show the relationship between two numerical variables\n",
    "    \"\"\"\n",
    "    \n",
    "    for col in numeric_columns:\n",
    "        core=data[[col,target_column]].corr()\n",
    "        print(core)\n",
    "        fig = plt.figure(figsize=(6,6)) # define plot area\n",
    "        ax = sns.regplot(x=col, y=target_column,data=df_obsent)\n",
    "        plt.show()\n",
    "\n",
    "def plot_bar(data,cat_columns,col_y):\n",
    "    \"\"\" This plot will take  Categorical variables and numerica target variable as input and give\n",
    "     out put  as  barplot  which categorical variable on x axis and numerical variable on Y axis\"\"\"\n",
    "    for col in cat_columns:\n",
    "        \n",
    "        data.groupby(col)[col_y].sum().plot.bar()\n",
    "        #df_obsent.groupby(col)[col_y].reset_index().sort_values(col_y).plot.bar()\n",
    "        plt.xlabel(col) # Set text for the x axis\n",
    "        plt.ylabel(col_y)# Set text for y axis\n",
    "        plt.show()\n",
    "\n",
    "def plot_box(data, cols, col_x):\n",
    "    \"\"\"\" This  function will display the  box plot, to show  relationship between  numeric \n",
    "    variables(Cols) and and target categorical variable (Col_x)\n",
    "      \"\"\"\n",
    "    for col in cols:\n",
    "        sns.set_style(\"whitegrid\")\n",
    "        sns.boxplot(col_x, col, data=data)\n",
    "        plt.xlabel(col_x) # Set text for the x axis\n",
    "        plt.ylabel(col)# Set text for y axis\n",
    "        plt.show()\n",
    "\n",
    "\n",
    "def fun_numeric_relation(data):\n",
    "    \"\"\"\" This function will give  output of  plot of relationship between numeric variables in  data frame  \"\"\"\n",
    "    f, ax = plt.subplots(figsize=(8, 6))\n",
    "    corr = data.corr()\n",
    "    sns.heatmap(corr, mask=np.zeros_like(corr, dtype=np.bool), cmap=sns.diverging_palette(220, 10, as_cmap=True), square=True, ax=ax)\n",
    "\n",
    "def encoding_categorical(data , cat_columns):\n",
    "    \n",
    "    \"\"\"  This function  will take  take  dataframe and  cat_columns  as input  and  turn those categorical values into encoding form\n",
    "    0's and 1'  if columns is not category it will convert this into category and encode the  values\n",
    "    \"\"\"\n",
    "    \n",
    "    for col in cat_columns:\n",
    "        data[col]=data[col].astype(\"category\")\n",
    "        data[col]=data[col].cat.codes\n",
    "    return data\n",
    "\n",
    "\n",
    "def standardform_convert(data ,numeric_columns):\n",
    "    \"\"\"  This  functin will take  input as data frame and numerical columns  and convert those numerical data into  standardization\n",
    "    form  and  gives  output and converted data frame\"\"\"\n",
    "    for i in numeric_columns:\n",
    "        print(i)\n",
    "        data[i] = (data[i] - data[i].mean())/data[i].std()\n",
    "    return data\n",
    "    \n",
    "        \n",
    "def group_plot(data , cat_columns,target_col):\n",
    "    \"\"\" This  function will show the relationship between two categorical variables in grouped bar chart\"\"\"\n",
    "    for col in cat_columns:\n",
    "        print(col ,\"and\",target_col,\" target Variable\")\n",
    "        carat_table = pd.crosstab(index=data[col],columns=data[target_col])\n",
    "        #print(carat_table)\n",
    "        carat_table.plot(kind=\"bar\", figsize=(10,10),stacked=False)\n",
    "        \n",
    "\n",
    "\n",
    "def encoding_categorical(data , cat_columns):\n",
    "    \n",
    "    \"\"\"  This function  will take  take  dataframe and  cat_columns  as input  and  turn those categorical values into encoding form\n",
    "    0's and 1'  if columns is not category it will convert this into category and encode the  values\n",
    "    \"\"\"\n",
    "    \n",
    "    for col in cat_columns:\n",
    "        data[col]=data[col].astype(\"category\")\n",
    "        data[col]=data[col].cat.codes\n",
    "    return data\n",
    "\n",
    "\n",
    "def treat_outlier(data,numeric_columns):\n",
    "    \"\"\"  This  function will take the input as data frame and numeric values  and return output  dataframe \n",
    "           after  treating the outliers\"\"\"\n",
    "    for i in numeric_columns:\n",
    "        print(i)\n",
    "        q75, q25 = np.percentile(data.loc[:,i], [75 ,25])\n",
    "        iqr = q75 - q25\n",
    "        mini = q25 - (iqr*1.5)\n",
    "        maxi = q75 + (iqr*1.5)\n",
    "        print(mini)\n",
    "        print(maxi)\n",
    "        data_outlier = data.drop(data[data.loc[:,i] < mini].index)\n",
    "        data_outlier = data.drop(data[data.loc[:,i] > maxi].index)\n",
    "    return  data_outlier\n",
    "\n",
    "def number_of_clusters(data):\n",
    "    \"\"\"This Function will take  data as input and return the graph to show number of clusters are require for this data\"\"\"\n",
    "    cluster_range = range( 1, 20 )\n",
    "    cluster_errors = []\n",
    "    for num_clusters in cluster_range:\n",
    "        clusters = KMeans(num_clusters).fit(X)\n",
    "        cluster_errors.append(clusters.inertia_)\n",
    "    # Create Data Frame  with Cluster Errors\n",
    "    clusters_df = pd.DataFrame( { \"num_clusters\":cluster_range, \"cluster_errors\": cluster_errors } )\n",
    "    plt.figure(figsize=(12,6))\n",
    "    plt.plot( clusters_df.num_clusters, clusters_df.cluster_errors, marker = \"o\" )\n",
    "    \n",
    "def kmeans_cluster(data):\n",
    "    \"\"\"This function will take input as  data and apply K means cluster algorithm on data and return  labels of different group of data\"\"\"\n",
    "    clusterNum = 3\n",
    "    k_means = KMeans(init = \"k-means++\", n_clusters = clusterNum, n_init = 12)\n",
    "    k_means.fit(data)\n",
    "    labels = k_means.labels_\n",
    "    print(labels)\n",
    "    \n",
    "    return labels"
   ]
  },
  {
   "cell_type": "code",
   "execution_count": null,
   "metadata": {},
   "outputs": [],
   "source": [
    "#    train   data  from  .csv file\n",
    "\n",
    "# getting and setting  current working directories\n",
    "\n",
    "os.getcwd()\n",
    "os.chdir(\"D:/Edwisor assignments/obsenteeism/\")\n",
    "os.getcwd()\n",
    "\n",
    "#get the list of files in the  directy\n",
    "\n",
    "print(os.listdir(os.getcwd()))"
   ]
  },
  {
   "cell_type": "code",
   "execution_count": null,
   "metadata": {},
   "outputs": [],
   "source": [
    "############### Load the Data ##############################\n",
    "\n",
    "df_obsent = pd.read_excel('Absenteeism_at_work_Project.xls', sheet_name=\"Absenteeism_at_work\")\n"
   ]
  },
  {
   "cell_type": "code",
   "execution_count": null,
   "metadata": {},
   "outputs": [],
   "source": [
    "df_obsent.columns = [\"ID\",\"Reasonforabsence\" ,\"Monthofabsence\",\"Dayoftheweek\",\"Seasons\",\"Transportationexpense\" ,\"Distancefromresidence\"\n",
    "                    ,\"Servicetime\",\"Age\",\"WorkloadAverage\",\"Hittarget\",\"Disciplinaryfailure\",\"Education\",\"Son\", \"Socialdrinker\"\n",
    "                    ,\"Socialsmoker\",\"Pet\",\"Weight\",\"Height\",\"BMI\",\"Absenteeismtime\"]\n",
    "\n",
    "df_obsent.columns"
   ]
  },
  {
   "cell_type": "code",
   "execution_count": null,
   "metadata": {},
   "outputs": [],
   "source": [
    "# Under standing data\n",
    "df_obsent.head()\n",
    "\n",
    "# Summary Of Data\n",
    "\n",
    "df_obsent.info()\n",
    "\n",
    "\n",
    "# this data set contains 740 rows and 21 columns  out of this 21 columns  nine  columns are  categorical and remaining  \n",
    "#columns are  Numeric\n",
    "\n"
   ]
  },
  {
   "cell_type": "code",
   "execution_count": null,
   "metadata": {},
   "outputs": [],
   "source": [
    "# Creating the  copy of  Data Frame\n",
    "df_obsentees = df_obsent.copy()\n",
    "\n",
    "cat_variables = ['Reasonforabsence','Monthofabsence','Dayoftheweek','Seasons','Disciplinaryfailure','Education','Son','Socialdrinker','Socialsmoker','Pet']\n",
    "\n",
    "#  Turn above Variables  to categorical\n",
    "\n",
    "df_obsent = change_data_type(df_obsent,cat_variables,'category')\n",
    "\n",
    "\n",
    "numeric_variables = df_obsent.select_dtypes(exclude=['object','category']).columns\n",
    "\n",
    "# Check  the variable data types after conversion\n",
    "df_obsent.info()"
   ]
  },
  {
   "cell_type": "code",
   "execution_count": null,
   "metadata": {},
   "outputs": [],
   "source": [
    "###############  Analyse  Univariate  Distribution #####################\n",
    "\n",
    "#descriptive statistics summary\n",
    "df_obsent['Absenteeismtime'].describe()\n",
    "\n",
    "A = df_obsent['Absenteeismtime']\n",
    "Anan=A[~np.isnan(A)] # Remove the NaNs\n",
    "\n",
    "#Check whether target variable is normallly Distributed  or not\n",
    "sns.distplot(Anan)\n",
    "# It seems that   'Absenteeism time in hours' is not normally  distributed most of the obsenteeism hours lies between 0-20 hrs\n",
    "# and few member  having  obsentees hours  more than 100  also it seems  there are   outliers  are present in the data\n"
   ]
  },
  {
   "cell_type": "code",
   "execution_count": null,
   "metadata": {},
   "outputs": [],
   "source": [
    "pd.DataFrame.hist(df_obsent.loc[:,numeric_variables], figsize = [13,13]);\n",
    "\n",
    "#In Below figure it is showing that Valriables 'Age','BMI','distanceFromResidence','Hittarget','Eervicetime',\n",
    "#'Transportationexpenses' , 'Weight' and 'WorkloadAverage'  are looking bit normally distributed but not perfect normal distribution still few outliers are present in each variable"
   ]
  },
  {
   "cell_type": "code",
   "execution_count": null,
   "metadata": {},
   "outputs": [],
   "source": []
  },
  {
   "cell_type": "code",
   "execution_count": null,
   "metadata": {},
   "outputs": [],
   "source": [
    "# ################ Univariate  Analysis  for  Categorival Variables\n",
    "\n",
    "create_frequncy_tables_plot(df_obsent,cat_variables)"
   ]
  },
  {
   "cell_type": "code",
   "execution_count": null,
   "metadata": {},
   "outputs": [],
   "source": [
    "############################################  Bibvariate  Relationship between Numerical Variable ################\n",
    "#  Analyse  realationship using  Joint Plot\n",
    "joint_plots(df_obsent,numeric_variables,'Absenteeismtime')\n",
    "\n",
    "#  Analyse Relationship  using  Reg Plot\n",
    "reg_plots(df_obsent,numeric_variables,'Absenteeismtime')"
   ]
  },
  {
   "cell_type": "code",
   "execution_count": null,
   "metadata": {},
   "outputs": [],
   "source": [
    "######################## Bivariate  Relationship  btween categorical  Variable and Target Variable ##########\n",
    "plot_bar(df_obsent,cat_variables,'Absenteeismtime')\n"
   ]
  },
  {
   "cell_type": "code",
   "execution_count": null,
   "metadata": {},
   "outputs": [],
   "source": [
    "###############################  Impute Missing  Values ###########################\n",
    "#Impute  Missing  values for Numerical COlumns\n",
    "\n",
    "for col in numeric_variables:\n",
    "    df_obsent[col] = df_obsent[col].fillna(df_obsent[col].median())\n",
    "\n",
    "for col in cat_variables:\n",
    "       df_obsent[col] = df_obsent[col].fillna(df_obsent[col].mode()[0])\n",
    "  "
   ]
  },
  {
   "cell_type": "code",
   "execution_count": null,
   "metadata": {},
   "outputs": [],
   "source": [
    "df_obsent.isnull().sum()"
   ]
  },
  {
   "cell_type": "code",
   "execution_count": null,
   "metadata": {},
   "outputs": [],
   "source": [
    "#######################################  Outlier  Analysis ####################################\n",
    "numeric_variables\n",
    "num_col= ['Transportationexpense','Distancefromresidence',\n",
    "       'Servicetime','Age','Hittarget','Weight',\n",
    "       'Height','BMI','Absenteeismtime']\n",
    "df_outlier =treat_outlier(df_obsent,num_col)\n",
    "\n"
   ]
  },
  {
   "cell_type": "code",
   "execution_count": null,
   "metadata": {},
   "outputs": [],
   "source": [
    "#  shape of data after treating Outliers\n",
    "df_outlier.shape\n",
    "\n",
    "# We lost 5%  of data\n",
    "\n",
    "#  Verify the distribution of numeric variable  after treating utliers\n",
    "pd.DataFrame.hist(df_outlier.loc[:,num_col], figsize = [13,13]);\n"
   ]
  },
  {
   "cell_type": "code",
   "execution_count": null,
   "metadata": {},
   "outputs": [],
   "source": [
    "numeric_variables\n",
    "num_col= ['Transportationexpense','Distancefromresidence',\n",
    "       'Servicetime','Age','Hittarget','Weight',\n",
    "       'Height','BMI','Absenteeismtime']"
   ]
  },
  {
   "cell_type": "code",
   "execution_count": null,
   "metadata": {},
   "outputs": [],
   "source": [
    "###########################################  Feature Engineering ###############################\n",
    "fun_numeric_relation(df_outlier)\n",
    "#        If we observe the  figure 2.5 there is almost less relationship between  Independent numerical variables and  target Variable (Absenteeism in Hours)\n"
   ]
  },
  {
   "cell_type": "code",
   "execution_count": null,
   "metadata": {},
   "outputs": [],
   "source": [
    "#This plot is showing clearly that relation ship between  ‘Height’ , ‘Weight’ and ’BMI’\n",
    "#Hence  BMI is depends  on Height and Weight  than there is no need of  Height  and Weight variables\n",
    "\n",
    "df_outlier = df_outlier.drop([\"Height\",\"Weight\"],axis=1)\n",
    "\n",
    "# Verify the shape of data frame\n",
    "df_outlier.shape"
   ]
  },
  {
   "cell_type": "code",
   "execution_count": null,
   "metadata": {},
   "outputs": [],
   "source": [
    "################################ Encode  Categorical variables \n",
    "\n",
    "encoding_categorical(df_outlier,cat_variables)"
   ]
  },
  {
   "cell_type": "code",
   "execution_count": null,
   "metadata": {},
   "outputs": [],
   "source": [
    "#################################  Standarddised  Numerical Variables ###############################\n",
    "#SInce  Most of the  data is normally distributes Except  few outliers  so going for the Standardization\n",
    "from sklearn.preprocessing import StandardScaler\n",
    "X = df_outlier.values[:,1:]\n",
    "X = np.nan_to_num(X)\n",
    "Clus_dataSet = StandardScaler().fit_transform(X)\n",
    "#Clus_dataSet\n",
    "X"
   ]
  },
  {
   "cell_type": "code",
   "execution_count": null,
   "metadata": {},
   "outputs": [],
   "source": [
    "############################################ Model  Development ###################################\n",
    "\n",
    "#Have to Decide  Number of Clusters \n"
   ]
  },
  {
   "cell_type": "code",
   "execution_count": null,
   "metadata": {},
   "outputs": [],
   "source": [
    "### choose number of clusters\n",
    "number_of_clusters(X)\n",
    "\n",
    "#below graph showing that graph is decrease  drastically when it is greater than 2.5  and it slow down from than\n",
    "# an elbow shape is there at nearly 3\n",
    "\n",
    "# Number of clusters for this data is 3"
   ]
  },
  {
   "cell_type": "code",
   "execution_count": null,
   "metadata": {},
   "outputs": [],
   "source": [
    "######################################  Apply  Kmeans clustering algorithm\n",
    "def kmeans_cluster(data):\n",
    "    \"\"\"This function will take input as  data and apply K means cluster algorithm on data and return  labels of different group of data\"\"\"\n",
    "    clusterNum = 3\n",
    "    k_means = KMeans(init = \"k-means++\", n_clusters = clusterNum, n_init = 12)\n",
    "    k_means.fit(data)\n",
    "    labels = k_means.labels_\n",
    "    print(labels)\n",
    "    \n",
    "    return labels"
   ]
  },
  {
   "cell_type": "code",
   "execution_count": null,
   "metadata": {},
   "outputs": [],
   "source": [
    "labels =kmeans_cluster(X)"
   ]
  },
  {
   "cell_type": "code",
   "execution_count": null,
   "metadata": {},
   "outputs": [],
   "source": [
    "#######  Analyse the labels by appending to the data \n",
    "\n",
    "#Asign These Labels to the original DataFrame\n",
    "df_outlier[\"Clus_km\"] = labels\n",
    "df_obsent.head(5)\n",
    "df_outlier[\"Clus_km\"].value_counts()"
   ]
  },
  {
   "cell_type": "code",
   "execution_count": null,
   "metadata": {},
   "outputs": [],
   "source": [
    "#  Verify the average  of each columns values by group with clusters labels\n",
    "numeric_col= ['Transportationexpense','Distancefromresidence','Servicetime','Age','WorkloadAverage','Hittarget','BMI','Absenteeismtime']\n",
    "df_outlier.groupby('Clus_km')[numeric_col].mean()"
   ]
  },
  {
   "cell_type": "code",
   "execution_count": null,
   "metadata": {},
   "outputs": [],
   "source": [
    "#  Reasoni for Obsentees  analyse for categorical variables\n",
    "\n",
    "#y_c0l= df_obsent['Absenteeismtime'].mean()\n",
    "plt.figure(figsize=(13,6))\n",
    "\n",
    "sns.barplot(data=df_outlier, x=\"Reasonforabsence\", y=\"Absenteeismtime\", hue=\"Clus_km\")\n",
    "\n"
   ]
  },
  {
   "cell_type": "code",
   "execution_count": null,
   "metadata": {},
   "outputs": [],
   "source": [
    "#  Reasoni for Obsentees  analyse for categorical variables\n",
    "\n",
    "#y_c0l= df_obsent['Absenteeismtime'].mean()\n",
    "plt.figure(figsize=(13,6))\n",
    "\n",
    "sns.barplot(data=df_outlier, x=\"Monthofabsence\", y=\"Absenteeismtime\", hue=\"Clus_km\")\n",
    "\n",
    "#Monthofabsence\tDayoftheweek"
   ]
  },
  {
   "cell_type": "code",
   "execution_count": null,
   "metadata": {},
   "outputs": [],
   "source": [
    "#y_c0l= df_obsent['Absenteeismtime'].mean()\n",
    "plt.figure(figsize=(13,6))\n",
    "\n",
    "sns.barplot(data=df_outlier, x=\"Socialdrinker\", y=\"Absenteeismtime\", hue=\"Clus_km\")\n",
    "\n",
    "#Monthofabsence\tDayoftheweek"
   ]
  },
  {
   "cell_type": "code",
   "execution_count": null,
   "metadata": {},
   "outputs": [],
   "source": [
    "################\n",
    "#What changes company should bring to reduce the number of absenteeism\n",
    "#Ans : \n",
    "#i.\t Company  should  decrease the Service Time and Work Load of Employees(Especially the young Employees)\n",
    "#ii.\tCompany  should Provide Doctor Consultant in Office  Especially in  Spring and Summer Season  since most of the employees suffering with infectious diseases in winter and Spring Season  and  might be because of high work pressure most of the employees are suffering with ICD – 6 ( Diseases of the nervous system) mostly during summer season.\n",
    "\n"
   ]
  },
  {
   "cell_type": "code",
   "execution_count": null,
   "metadata": {},
   "outputs": [],
   "source": [
    "###2. Question  \n",
    "##How much losses every month can we project in 2011 if same trend of absenteeism continues?\n",
    "\n",
    "df_outlier.groupby('Monthofabsence')['Absenteeismtime'].mean().plot.bar()\n",
    "#df_obsent.groupby(col)[col_y].reset_index().sort_values(col_y).plot.bar()\n",
    "plt.xlabel('Monthofabsence') # Set text for the x axis\n",
    "plt.ylabel('Absenteeismtime')# Set text for y axis\n",
    "\n",
    "plt.show()"
   ]
  },
  {
   "cell_type": "code",
   "execution_count": null,
   "metadata": {},
   "outputs": [],
   "source": [
    "df_obsent.groupby('Monthofabsence')['Absenteeismtime'].mean()"
   ]
  },
  {
   "cell_type": "code",
   "execution_count": null,
   "metadata": {},
   "outputs": [],
   "source": []
  }
 ],
 "metadata": {
  "kernelspec": {
   "display_name": "Python 2",
   "language": "python",
   "name": "python2"
  },
  "language_info": {
   "codemirror_mode": {
    "name": "ipython",
    "version": 2
   },
   "file_extension": ".py",
   "mimetype": "text/x-python",
   "name": "python",
   "nbconvert_exporter": "python",
   "pygments_lexer": "ipython2",
   "version": "2.7.15"
  }
 },
 "nbformat": 4,
 "nbformat_minor": 2
}
